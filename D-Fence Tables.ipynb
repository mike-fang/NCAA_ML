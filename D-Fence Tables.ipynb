{
 "cells": [
  {
   "cell_type": "markdown",
   "metadata": {},
   "source": [
    "Make table with defense and offensive points per team per season\n"
   ]
  },
  {
   "cell_type": "code",
   "execution_count": 148,
   "metadata": {
    "collapsed": true
   },
   "outputs": [],
   "source": [
    "import pandas as pd\n",
    "import numpy as np\n",
    "import matplotlib.pylab as plt\n",
    "from sklearn.model_selection import train_test_split\n",
    "\n",
    "%matplotlib inline\n",
    "\n",
    "compact_result_season = pd.read_csv('./data/DataFiles/RegularSeasonCompactResults.csv')\n",
    "\n",
    "#import the file with team IDs\n",
    "team_ids = pd.read_csv('./data/DataFiles/Teams.csv')"
   ]
  },
  {
   "cell_type": "markdown",
   "metadata": {},
   "source": [
    "Merge Team IDs and Team Names"
   ]
  },
  {
   "cell_type": "code",
   "execution_count": 4,
   "metadata": {},
   "outputs": [],
   "source": [
    "named_test = pd.merge(compact_result_season, team_ids[['TeamID', 'TeamName']], left_on='WTeamID', right_on='TeamID')"
   ]
  },
  {
   "cell_type": "code",
   "execution_count": 7,
   "metadata": {},
   "outputs": [],
   "source": [
    "named_test.columns = [u'Season', u'DayNum', u'WTeamID', u'WScore', u'LTeamID', u'LScore',\n",
    "       u'WLoc', u'NumOT', u'TeamID', u'WTeamName']\n",
    "\n",
    "named_test = named_test.drop('TeamID', axis=1)\n",
    "\n",
    "named_test = pd.merge(named_test, team_ids[['TeamID', 'TeamName']], left_on='LTeamID', right_on='TeamID')\n",
    "\n",
    "named_test.columns = [   u'Season',    u'DayNum',   u'WTeamID',    u'WScore',   u'LTeamID',\n",
    "          u'LScore',      u'WLoc',     u'NumOT', u'WTeamName',\n",
    "          u'TeamID',  u'LTeamName']"
   ]
  },
  {
   "cell_type": "code",
   "execution_count": 9,
   "metadata": {},
   "outputs": [],
   "source": [
    "named_test.drop('TeamID', axis=1, inplace=True)"
   ]
  },
  {
   "cell_type": "code",
   "execution_count": 11,
   "metadata": {},
   "outputs": [
    {
     "data": {
      "text/html": [
       "<div>\n",
       "<style>\n",
       "    .dataframe thead tr:only-child th {\n",
       "        text-align: right;\n",
       "    }\n",
       "\n",
       "    .dataframe thead th {\n",
       "        text-align: left;\n",
       "    }\n",
       "\n",
       "    .dataframe tbody tr th {\n",
       "        vertical-align: top;\n",
       "    }\n",
       "</style>\n",
       "<table border=\"1\" class=\"dataframe\">\n",
       "  <thead>\n",
       "    <tr style=\"text-align: right;\">\n",
       "      <th></th>\n",
       "      <th>Season</th>\n",
       "      <th>DayNum</th>\n",
       "      <th>WTeamID</th>\n",
       "      <th>WScore</th>\n",
       "      <th>LTeamID</th>\n",
       "      <th>LScore</th>\n",
       "      <th>WLoc</th>\n",
       "      <th>NumOT</th>\n",
       "      <th>WTeamName</th>\n",
       "      <th>LTeamName</th>\n",
       "    </tr>\n",
       "  </thead>\n",
       "  <tbody>\n",
       "    <tr>\n",
       "      <th>0</th>\n",
       "      <td>1985</td>\n",
       "      <td>20</td>\n",
       "      <td>1228</td>\n",
       "      <td>81</td>\n",
       "      <td>1328</td>\n",
       "      <td>64</td>\n",
       "      <td>N</td>\n",
       "      <td>0</td>\n",
       "      <td>Illinois</td>\n",
       "      <td>Oklahoma</td>\n",
       "    </tr>\n",
       "    <tr>\n",
       "      <th>1</th>\n",
       "      <td>1985</td>\n",
       "      <td>33</td>\n",
       "      <td>1228</td>\n",
       "      <td>73</td>\n",
       "      <td>1328</td>\n",
       "      <td>70</td>\n",
       "      <td>H</td>\n",
       "      <td>0</td>\n",
       "      <td>Illinois</td>\n",
       "      <td>Oklahoma</td>\n",
       "    </tr>\n",
       "    <tr>\n",
       "      <th>2</th>\n",
       "      <td>1990</td>\n",
       "      <td>82</td>\n",
       "      <td>1112</td>\n",
       "      <td>78</td>\n",
       "      <td>1328</td>\n",
       "      <td>74</td>\n",
       "      <td>H</td>\n",
       "      <td>0</td>\n",
       "      <td>Arizona</td>\n",
       "      <td>Oklahoma</td>\n",
       "    </tr>\n",
       "    <tr>\n",
       "      <th>3</th>\n",
       "      <td>2011</td>\n",
       "      <td>34</td>\n",
       "      <td>1112</td>\n",
       "      <td>83</td>\n",
       "      <td>1328</td>\n",
       "      <td>60</td>\n",
       "      <td>H</td>\n",
       "      <td>0</td>\n",
       "      <td>Arizona</td>\n",
       "      <td>Oklahoma</td>\n",
       "    </tr>\n",
       "    <tr>\n",
       "      <th>4</th>\n",
       "      <td>1985</td>\n",
       "      <td>118</td>\n",
       "      <td>1242</td>\n",
       "      <td>82</td>\n",
       "      <td>1328</td>\n",
       "      <td>76</td>\n",
       "      <td>H</td>\n",
       "      <td>0</td>\n",
       "      <td>Kansas</td>\n",
       "      <td>Oklahoma</td>\n",
       "    </tr>\n",
       "  </tbody>\n",
       "</table>\n",
       "</div>"
      ],
      "text/plain": [
       "   Season  DayNum  WTeamID  WScore  LTeamID  LScore WLoc  NumOT WTeamName  \\\n",
       "0    1985      20     1228      81     1328      64    N      0  Illinois   \n",
       "1    1985      33     1228      73     1328      70    H      0  Illinois   \n",
       "2    1990      82     1112      78     1328      74    H      0   Arizona   \n",
       "3    2011      34     1112      83     1328      60    H      0   Arizona   \n",
       "4    1985     118     1242      82     1328      76    H      0    Kansas   \n",
       "\n",
       "  LTeamName  \n",
       "0  Oklahoma  \n",
       "1  Oklahoma  \n",
       "2  Oklahoma  \n",
       "3  Oklahoma  \n",
       "4  Oklahoma  "
      ]
     },
     "execution_count": 11,
     "metadata": {},
     "output_type": "execute_result"
    }
   ],
   "source": [
    "named_test.head()"
   ]
  },
  {
   "cell_type": "code",
   "execution_count": 19,
   "metadata": {},
   "outputs": [],
   "source": [
    "named_test = named_test.sort_values(['WTeamID']).reset_index()"
   ]
  },
  {
   "cell_type": "code",
   "execution_count": 22,
   "metadata": {},
   "outputs": [],
   "source": [
    "named_test.drop('index', axis=1, inplace=True)"
   ]
  },
  {
   "cell_type": "code",
   "execution_count": 23,
   "metadata": {},
   "outputs": [
    {
     "data": {
      "text/html": [
       "<div>\n",
       "<style>\n",
       "    .dataframe thead tr:only-child th {\n",
       "        text-align: right;\n",
       "    }\n",
       "\n",
       "    .dataframe thead th {\n",
       "        text-align: left;\n",
       "    }\n",
       "\n",
       "    .dataframe tbody tr th {\n",
       "        vertical-align: top;\n",
       "    }\n",
       "</style>\n",
       "<table border=\"1\" class=\"dataframe\">\n",
       "  <thead>\n",
       "    <tr style=\"text-align: right;\">\n",
       "      <th></th>\n",
       "      <th>Season</th>\n",
       "      <th>DayNum</th>\n",
       "      <th>WTeamID</th>\n",
       "      <th>WScore</th>\n",
       "      <th>LTeamID</th>\n",
       "      <th>LScore</th>\n",
       "      <th>WLoc</th>\n",
       "      <th>NumOT</th>\n",
       "      <th>WTeamName</th>\n",
       "      <th>LTeamName</th>\n",
       "    </tr>\n",
       "  </thead>\n",
       "  <tbody>\n",
       "    <tr>\n",
       "      <th>0</th>\n",
       "      <td>2015</td>\n",
       "      <td>49</td>\n",
       "      <td>1101</td>\n",
       "      <td>65</td>\n",
       "      <td>1354</td>\n",
       "      <td>59</td>\n",
       "      <td>N</td>\n",
       "      <td>0</td>\n",
       "      <td>Abilene Chr</td>\n",
       "      <td>S Carolina St</td>\n",
       "    </tr>\n",
       "    <tr>\n",
       "      <th>1</th>\n",
       "      <td>2016</td>\n",
       "      <td>25</td>\n",
       "      <td>1101</td>\n",
       "      <td>72</td>\n",
       "      <td>1197</td>\n",
       "      <td>62</td>\n",
       "      <td>N</td>\n",
       "      <td>0</td>\n",
       "      <td>Abilene Chr</td>\n",
       "      <td>Florida A&amp;M</td>\n",
       "    </tr>\n",
       "    <tr>\n",
       "      <th>2</th>\n",
       "      <td>2014</td>\n",
       "      <td>94</td>\n",
       "      <td>1101</td>\n",
       "      <td>87</td>\n",
       "      <td>1223</td>\n",
       "      <td>81</td>\n",
       "      <td>H</td>\n",
       "      <td>0</td>\n",
       "      <td>Abilene Chr</td>\n",
       "      <td>Houston Bap</td>\n",
       "    </tr>\n",
       "    <tr>\n",
       "      <th>3</th>\n",
       "      <td>2015</td>\n",
       "      <td>120</td>\n",
       "      <td>1101</td>\n",
       "      <td>83</td>\n",
       "      <td>1223</td>\n",
       "      <td>71</td>\n",
       "      <td>H</td>\n",
       "      <td>0</td>\n",
       "      <td>Abilene Chr</td>\n",
       "      <td>Houston Bap</td>\n",
       "    </tr>\n",
       "    <tr>\n",
       "      <th>4</th>\n",
       "      <td>2016</td>\n",
       "      <td>92</td>\n",
       "      <td>1101</td>\n",
       "      <td>79</td>\n",
       "      <td>1223</td>\n",
       "      <td>72</td>\n",
       "      <td>H</td>\n",
       "      <td>0</td>\n",
       "      <td>Abilene Chr</td>\n",
       "      <td>Houston Bap</td>\n",
       "    </tr>\n",
       "  </tbody>\n",
       "</table>\n",
       "</div>"
      ],
      "text/plain": [
       "   Season  DayNum  WTeamID  WScore  LTeamID  LScore WLoc  NumOT    WTeamName  \\\n",
       "0    2015      49     1101      65     1354      59    N      0  Abilene Chr   \n",
       "1    2016      25     1101      72     1197      62    N      0  Abilene Chr   \n",
       "2    2014      94     1101      87     1223      81    H      0  Abilene Chr   \n",
       "3    2015     120     1101      83     1223      71    H      0  Abilene Chr   \n",
       "4    2016      92     1101      79     1223      72    H      0  Abilene Chr   \n",
       "\n",
       "       LTeamName  \n",
       "0  S Carolina St  \n",
       "1    Florida A&M  \n",
       "2    Houston Bap  \n",
       "3    Houston Bap  \n",
       "4    Houston Bap  "
      ]
     },
     "execution_count": 23,
     "metadata": {},
     "output_type": "execute_result"
    }
   ],
   "source": [
    "named_test.head()"
   ]
  },
  {
   "cell_type": "code",
   "execution_count": 43,
   "metadata": {},
   "outputs": [],
   "source": [
    "maryland_wins = named_test[named_test['WTeamID'] ==1268]"
   ]
  },
  {
   "cell_type": "code",
   "execution_count": 45,
   "metadata": {},
   "outputs": [],
   "source": [
    "maryland_wins_2016 = maryland_wins[maryland_wins['Season'] == 2016]"
   ]
  },
  {
   "cell_type": "code",
   "execution_count": 48,
   "metadata": {},
   "outputs": [],
   "source": [
    "umd_2016_ppg = maryland_wins_2016['WScore'].mean()\n",
    "umd_2016_ppga = maryland_wins_2016['LScore'].mean()"
   ]
  },
  {
   "cell_type": "code",
   "execution_count": 53,
   "metadata": {},
   "outputs": [],
   "source": [
    "maryland_loss = named_test[named_test['LTeamID'] ==1268]\n",
    "maryland_loss_2016 = maryland_loss[maryland_loss['Season'] == 2016]"
   ]
  },
  {
   "cell_type": "code",
   "execution_count": 60,
   "metadata": {},
   "outputs": [],
   "source": [
    "umd_2016_ppg = (maryland_wins_2016['WScore'].mean()*len(maryland_wins_2016) + maryland_loss_2016['LScore'].mean()*len(maryland_loss_2016))/(len(maryland_loss_2016)+len(maryland_wins_2016))\n",
    "umd_2016_ppga = (maryland_wins_2016['LScore'].mean()*len(maryland_wins_2016) + maryland_loss_2016['WScore'].mean()*len(maryland_loss_2016))/(len(maryland_loss_2016)+len(maryland_wins_2016))"
   ]
  },
  {
   "cell_type": "code",
   "execution_count": 123,
   "metadata": {},
   "outputs": [],
   "source": [
    "#Process for creating table of interest\n",
    "# 1 - Loop through WTeamIDS\n",
    "# 2 - Loop through Seasons\n",
    "# 3 -  Calculate PPG and PPGA\n",
    "# 4 - Store in 'master - list'\n",
    "\n",
    "master_list = []\n",
    "header = ['TeamID', 'Team Name', 'Season', 'Number Wins', 'Number Losses', 'PPG', 'PPGA']\n",
    "#master_list.append(header)\n",
    "\n",
    "#find unique TeamIDS\n",
    "unique_team_id = team_ids['TeamID'].unique()\n",
    "unique_season = named_test['Season'].unique()\n",
    "unique_season.sort()\n",
    "\n",
    "#loop through TeamIDS\n",
    "for ids in unique_team_id:\n",
    "    win_team = named_test[named_test['WTeamID']==ids]\n",
    "    loss_team = named_test[named_test['LTeamID']==ids]\n",
    "    \n",
    "    team_name = win_team['WTeamName'].iloc[0]\n",
    "    \n",
    "    for seas in unique_season:\n",
    "        win_team_seas = win_team[win_team['Season']==seas]\n",
    "        loss_team_seas = loss_team[loss_team['Season']==seas]\n",
    "        \n",
    "        len_win = len(win_team_seas)\n",
    "        len_loss = len(loss_team_seas)\n",
    "        \n",
    "        if (len_win + len_loss) != 0:\n",
    "        \n",
    "            ppg_seas = (win_team_seas['WScore'].mean()*len_win + loss_team_seas['LScore'].mean()*len_loss)/(len_win+len_loss) \n",
    "            ppga_seas = (win_team_seas['LScore'].mean()*len_win + loss_team_seas['WScore'].mean()*len_loss)/(len_win+len_loss) \n",
    "\n",
    "        else:\n",
    "            \n",
    "            ppg_seas = 0.0\n",
    "            ppga_seas = 0.0\n",
    "                \n",
    "        #storage tuple\n",
    "        stor = [ids, team_name, seas, len_win, len_loss, ppg_seas, ppga_seas]\n",
    "        master_list.append(stor)\n",
    "    \n",
    "    \n",
    "        \n",
    "        \n",
    "        \n",
    "\n",
    "        \n",
    "    \n",
    "                      "
   ]
  },
  {
   "cell_type": "code",
   "execution_count": 124,
   "metadata": {},
   "outputs": [],
   "source": [
    "df1 = pd.DataFrame(master_list, columns = header)"
   ]
  },
  {
   "cell_type": "code",
   "execution_count": 141,
   "metadata": {},
   "outputs": [],
   "source": [
    "duke = df1[df1['Team Name'] == 'Duke']"
   ]
  },
  {
   "cell_type": "code",
   "execution_count": 155,
   "metadata": {},
   "outputs": [
    {
     "data": {
      "text/plain": [
       "<matplotlib.axes._subplots.AxesSubplot at 0x1a0c403d10>"
      ]
     },
     "execution_count": 155,
     "metadata": {},
     "output_type": "execute_result"
    },
    {
     "data": {
      "image/png": "[encoded data removed]",
      "text/plain": [
       "<matplotlib.figure.Figure at 0x1a0c14e490>"
      ]
     },
     "metadata": {},
     "output_type": "display_data"
    }
   ],
   "source": [
    "duke.plot(x ='Season', y = ['PPG', 'PPGA'], color = ['skyblue', 'olive'])\n",
    "\n"
   ]
  },
  {
   "cell_type": "code",
   "execution_count": null,
   "metadata": {
    "collapsed": true
   },
   "outputs": [],
   "source": []
  }
 ],
 "metadata": {
  "kernelspec": {
   "display_name": "Python 2",
   "language": "python",
   "name": "python2"
  },
  "language_info": {
   "codemirror_mode": {
    "name": "ipython",
    "version": 2
   },
   "file_extension": ".py",
   "mimetype": "text/x-python",
   "name": "python",
   "nbconvert_exporter": "python",
   "pygments_lexer": "ipython2",
   "version": "2.7.14"
  }
 },
 "nbformat": 4,
 "nbformat_minor": 2
}
