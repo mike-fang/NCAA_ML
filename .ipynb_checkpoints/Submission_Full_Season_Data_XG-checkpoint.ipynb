{
 "cells": [
  {
   "cell_type": "code",
   "execution_count": 1,
   "metadata": {
    "collapsed": true
   },
   "outputs": [],
   "source": [
    "import pandas as pd\n",
    "import numpy as np\n",
    "import matplotlib.pylab as plt\n",
    "\n",
    "\n",
    "%matplotlib inline\n",
    "\n",
    "full_result_season = pd.read_csv('./data/DataFiles/RegularSeasonDetailedResults.csv')\n",
    "\n",
    "#import team IDs\n",
    "team_ids = pd.read_csv('./data/DataFiles/Teams.csv')\n",
    "\n",
    "submit_sample = pd.read_csv('./data/SampleTourney2018/SampleSubmissionStage2_SampleTourney2018.csv')\n",
    "\n",
    "data_2018 = pd.read_csv('./data/Stage2UpdatedDataFiles/RegularSeasonDetailedResults.csv')"
   ]
  },
  {
   "cell_type": "code",
   "execution_count": 2,
   "metadata": {
    "collapsed": true
   },
   "outputs": [],
   "source": [
    "full_result_season = data_2018"
   ]
  },
  {
   "cell_type": "code",
   "execution_count": 3,
   "metadata": {},
   "outputs": [
    {
     "data": {
      "text/plain": [
       "Index([u'Season', u'DayNum', u'WTeamID', u'WScore', u'LTeamID', u'LScore',\n",
       "       u'WLoc', u'NumOT', u'WFGM', u'WFGA', u'WFGM3', u'WFGA3', u'WFTM',\n",
       "       u'WFTA', u'WOR', u'WDR', u'WAst', u'WTO', u'WStl', u'WBlk', u'WPF',\n",
       "       u'LFGM', u'LFGA', u'LFGM3', u'LFGA3', u'LFTM', u'LFTA', u'LOR', u'LDR',\n",
       "       u'LAst', u'LTO', u'LStl', u'LBlk', u'LPF'],\n",
       "      dtype='object')"
      ]
     },
     "execution_count": 3,
     "metadata": {},
     "output_type": "execute_result"
    }
   ],
   "source": [
    "full_result_season.columns"
   ]
  },
  {
   "cell_type": "code",
   "execution_count": 4,
   "metadata": {
    "collapsed": true
   },
   "outputs": [],
   "source": [
    "named_test = pd.merge(full_result_season, team_ids[['TeamID', 'TeamName']], left_on='WTeamID', right_on='TeamID')"
   ]
  },
  {
   "cell_type": "code",
   "execution_count": 5,
   "metadata": {
    "collapsed": true
   },
   "outputs": [],
   "source": [
    "named_test.columns = [u'Season', u'DayNum', u'WTeamID', u'WScore', u'LTeamID', u'LScore',\n",
    "       u'WLoc', u'NumOT', u'WFGM', u'WFGA', u'WFGM3', u'WFGA3', u'WFTM',\n",
    "       u'WFTA', u'WOR', u'WDR', u'WAst', u'WTO', u'WStl', u'WBlk', u'WPF',\n",
    "       u'LFGM', u'LFGA', u'LFGM3', u'LFGA3', u'LFTM', u'LFTA', u'LOR', u'LDR',\n",
    "       u'LAst', u'LTO', u'LStl', u'LBlk', u'LPF', u'TeamID', u'WTeamName']\n",
    "\n",
    "named_test = named_test.drop('TeamID', axis=1)"
   ]
  },
  {
   "cell_type": "code",
   "execution_count": 6,
   "metadata": {
    "collapsed": true
   },
   "outputs": [],
   "source": [
    "named_test = pd.merge(named_test, team_ids[['TeamID', 'TeamName']], left_on='LTeamID', right_on='TeamID')"
   ]
  },
  {
   "cell_type": "code",
   "execution_count": 7,
   "metadata": {
    "collapsed": true
   },
   "outputs": [],
   "source": [
    "named_test.columns = [u'Season',    u'DayNum',   u'WTeamID',    u'WScore',   u'LTeamID',\n",
    "          u'LScore',      u'WLoc',     u'NumOT',      u'WFGM',      u'WFGA',\n",
    "           u'WFGM3',     u'WFGA3',      u'WFTM',      u'WFTA',       u'WOR',\n",
    "             u'WDR',      u'WAst',       u'WTO',      u'WStl',      u'WBlk',\n",
    "             u'WPF',      u'LFGM',      u'LFGA',     u'LFGM3',     u'LFGA3',\n",
    "            u'LFTM',      u'LFTA',       u'LOR',       u'LDR',      u'LAst',\n",
    "             u'LTO',      u'LStl',      u'LBlk',       u'LPF', u'WTeamName',\n",
    "          u'TeamID',  u'LTeamName']\n",
    "named_test = named_test.drop('TeamID', axis=1)"
   ]
  },
  {
   "cell_type": "code",
   "execution_count": 8,
   "metadata": {},
   "outputs": [
    {
     "data": {
      "text/plain": [
       "<matplotlib.axes._subplots.AxesSubplot at 0x1060a35d0>"
      ]
     },
     "execution_count": 8,
     "metadata": {},
     "output_type": "execute_result"
    },
    {
     "data": {
      "image/png": "[encoded data removed]",
      "text/plain": [
       "<matplotlib.figure.Figure at 0x106093f50>"
      ]
     },
     "metadata": {},
     "output_type": "display_data"
    }
   ],
   "source": [
    "named_test['LDR'].plot.hist(bins = 50)"
   ]
  },
  {
   "cell_type": "markdown",
   "metadata": {},
   "source": [
    "Aggregate averages per season"
   ]
  },
  {
   "cell_type": "code",
   "execution_count": 9,
   "metadata": {
    "collapsed": true
   },
   "outputs": [],
   "source": [
    "#Calculator Function for Stats\n",
    "\n",
    "def point_stats(win_team_seas, loss_team_seas):\n",
    "\n",
    "    #Points\n",
    "    ppg_seas = (win_team_seas['WScore'].mean()*len_win + loss_team_seas['LScore'].mean()*len_loss)/(len_win+len_loss) \n",
    "    ppga_seas = (win_team_seas['LScore'].mean()*len_win + loss_team_seas['WScore'].mean()*len_loss)/(len_win+len_loss)\n",
    "\n",
    "    return ppg_seas, ppga_seas\n",
    "        \n",
    "def rebound_stats(win_team_seas, loss_team_seas):\n",
    "    # Rebounds - Defensive and Offensive\n",
    "    #Defensive\n",
    "    drb_seas = (win_team_seas['WDR'].mean()*len_win + loss_team_seas['LDR'].mean()*len_loss)/(len_win+len_loss)\n",
    "    drba_seas = (win_team_seas['LDR'].mean()*len_win + loss_team_seas['WDR'].mean()*len_loss)/(len_win+len_loss)\n",
    "    #Offensive\n",
    "    orb_seas = (win_team_seas['WOR'].mean()*len_win + loss_team_seas['LOR'].mean()*len_loss)/(len_win+len_loss)\n",
    "    orba_seas = (win_team_seas['LOR'].mean()*len_win + loss_team_seas['WOR'].mean()*len_loss)/(len_win+len_loss)\n",
    "\n",
    "    return drb_seas, drba_seas, orb_seas, orba_seas\n",
    "        \n",
    "        \n",
    "def shooting_stats(win_team_seas, loss_team_seas):\n",
    "    ###Shooting Percentages\n",
    "    # FG Percent\n",
    "    fg_percent = (((win_team_seas['WFGM']/win_team_seas['WFGA'])*len_win).mean() \n",
    "                  + ((loss_team_seas['LFGM']/loss_team_seas['LFGA'])*len_win).mean())/(len_win+len_loss)\n",
    "    # FG Percent Allowed\n",
    "    fg_percent_allow = (((win_team_seas['LFGM']/win_team_seas['LFGA'])*len_win).mean() \n",
    "                  + ((loss_team_seas['WFGM']/loss_team_seas['WFGA'])*len_win).mean())/(len_win+len_loss)\n",
    "\n",
    "    # FG 3 Pointer Percent\n",
    "    fg3_percent = (((win_team_seas['WFGM3']/win_team_seas['WFGA3'])*len_win).mean() \n",
    "                  + ((loss_team_seas['LFGM3']/loss_team_seas['LFGA3'])*len_win).mean())/(len_win+len_loss)\n",
    "    # FG 3 Pointer Percent Allowed\n",
    "    fg3_percent_allow = (((win_team_seas['LFGM3']/win_team_seas['LFGA3'])*len_win).mean() \n",
    "                  + ((loss_team_seas['WFGM3']/loss_team_seas['WFGA3'])*len_win).mean())/(len_win+len_loss)\n",
    "\n",
    "    #FT Percentage\n",
    "    ft_percent = (((win_team_seas['WFTM']/win_team_seas['WFTA'])*len_win).mean() \n",
    "                  + ((loss_team_seas['LFTM']/loss_team_seas['LFTA'])*len_win).mean())/(len_win+len_loss)\n",
    "\n",
    "    #FT Percentage Opponent\n",
    "    ft_percent_opp = (((win_team_seas['LFTM']/win_team_seas['LFTA'])*len_win).mean() \n",
    "                  + ((loss_team_seas['WFTM']/loss_team_seas['WFTA'])*len_win).mean())/(len_win+len_loss)\n",
    "\n",
    "    return fg_percent, fg_percent_allow, fg3_percent, fg3_percent_allow, ft_percent, ft_percent_opp\n",
    "\n",
    "    \n",
    "def assist_stats(win_team_seas, loss_team_seas):\n",
    "    ###Supplementary Stats\n",
    "    #Assists\n",
    "    ast_seas = (win_team_seas['WAst'].mean()*len_win + loss_team_seas['LAst'].mean()*len_loss)/(len_win+len_loss) \n",
    "    asta_seas = (win_team_seas['LAst'].mean()*len_win + loss_team_seas['WAst'].mean()*len_loss)/(len_win+len_loss)\n",
    "\n",
    "    return ast_seas, asta_seas\n",
    "\n",
    "def turnover_stats(win_team_seas, loss_team_seas):\n",
    "    #Turnovers\n",
    "    to_seas = (win_team_seas['WTO'].mean()*len_win + loss_team_seas['LTO'].mean()*len_loss)/(len_win+len_loss) \n",
    "    tof_seas = (win_team_seas['LTO'].mean()*len_win + loss_team_seas['WTO'].mean()*len_loss)/(len_win+len_loss)\n",
    "\n",
    "    return to_seas, tof_seas\n",
    "\n",
    "def steals_stats(win_team_seas, loss_team_seas):\n",
    "    #Steals\n",
    "    stl_seas = (win_team_seas['WStl'].mean()*len_win + loss_team_seas['LStl'].mean()*len_loss)/(len_win+len_loss) \n",
    "    stla_seas = (win_team_seas['LStl'].mean()*len_win + loss_team_seas['WStl'].mean()*len_loss)/(len_win+len_loss)\n",
    "\n",
    "    return stl_seas, stla_seas\n",
    "\n",
    "\n",
    "def block_stats(win_team_seas, loss_team_seas):       \n",
    "    #Blocks\n",
    "    block_seas = (win_team_seas['WBlk'].mean()*len_win + loss_team_seas['LBlk'].mean()*len_loss)/(len_win+len_loss) \n",
    "    blocka_seas = (win_team_seas['LBlk'].mean()*len_win + loss_team_seas['WBlk'].mean()*len_loss)/(len_win+len_loss)\n",
    "\n",
    "    return block_seas, blocka_seas\n",
    "        \n",
    "def foul_stats(win_team_seas, loss_team_seas):\n",
    "    #Personal Fouls\n",
    "    pf_seas = (win_team_seas['WPF'].mean()*len_win + loss_team_seas['LPF'].mean()*len_loss)/(len_win+len_loss) \n",
    "    pfr_seas = (win_team_seas['LPF'].mean()*len_win + loss_team_seas['WPF'].mean()*len_loss)/(len_win+len_loss)\n",
    "    \n",
    "    return pf_seas, pfr_seas\n",
    "        \n",
    "        \n",
    "        \n",
    "            "
   ]
  },
  {
   "cell_type": "code",
   "execution_count": 10,
   "metadata": {
    "collapsed": true
   },
   "outputs": [],
   "source": [
    "#General Process\n",
    "# 1 - Loops through WTeamIDS\n",
    "# 2 - Loop through Seasons\n",
    "# 3 - Calculate the desired averages\n",
    "# 4 - Store in Master List\n",
    "\n",
    "master_list = []\n",
    "header = ['TeamID', 'TeamName', 'Season', 'Number Wins', 'Number Losses', 'PPG', 'PPGA', 'DRB', 'DRB Allowed', 'ORB',\n",
    "          'ORB Allowed', 'FG Percent', 'FG Percent Allowed', '3 Point Percent', '3 Point Percent Alllowed', 'FT Percent',\n",
    "          'FT Opponent','Assists', 'Assists Allowed' ,'Turnovers', 'Turnovers Forced', 'Steals', 'Steals Allowed', \n",
    "          'Blocks', 'Blocks Allowed', 'Personal Fouls', 'Personal Fouls Received']\n",
    "\n",
    "#find unique teamids\n",
    "unique_team_id = team_ids['TeamID'].unique()\n",
    "unique_season = named_test['Season'].unique()\n",
    "\n",
    "#Loop Through TeamIDs\n",
    "for ids in unique_team_id:\n",
    "    \n",
    "    win_team = named_test[named_test['WTeamID']==ids]\n",
    "    loss_team = named_test[named_test['LTeamID']==ids]\n",
    "    \n",
    "    if win_team.empty==False:\n",
    "    \n",
    "        team_name = win_team['WTeamName'].iloc[0]\n",
    "\n",
    "        for seas in unique_season:\n",
    "            win_team_seas = win_team[win_team['Season']==seas]\n",
    "            loss_team_seas = loss_team[loss_team['Season']==seas]\n",
    "\n",
    "            len_win = len(win_team_seas)\n",
    "            len_loss = len(loss_team_seas)\n",
    "\n",
    "            if (len_win + len_loss) != 0:\n",
    "\n",
    "                #Call calculator functions\n",
    "                #points\n",
    "                ppg, ppga = point_stats(win_team_seas, loss_team_seas)\n",
    "                #rebounds\n",
    "                drb_seas, drba_seas, orb_seas, orba_seas = rebound_stats(win_team_seas, loss_team_seas)\n",
    "                #shooting\n",
    "                fg_percent, fg_percent_allow, fg3_percent, fg3_percent_allow, ft_percent, ft_percent_opp = shooting_stats(win_team_seas, loss_team_seas)\n",
    "                #Assists\n",
    "                ast_seas, asta_seas = assist_stats(win_team_seas, loss_team_seas)\n",
    "                #Turnovers\n",
    "                to_seas, tof_seas = turnover_stats(win_team_seas, loss_team_seas)\n",
    "                #steals\n",
    "                stl_seas, stla_seas = steals_stats(win_team_seas, loss_team_seas)\n",
    "                #blocks\n",
    "                block_seas, blocka_seas = block_stats(win_team_seas, loss_team_seas)\n",
    "                #fouls\n",
    "                pf_seas, pfr_seas = foul_stats(win_team_seas, loss_team_seas)\n",
    "\n",
    "            else:\n",
    "                ppg = 0.0\n",
    "                ppga = 0.0\n",
    "                drb_seas = 0.0\n",
    "                drba_seas = 0.0\n",
    "                orb_seas = 0.0\n",
    "                orba_seas = 0.0\n",
    "                fg_percent = 0.0\n",
    "                fg_percent_allow = 0.0\n",
    "                fg3_percent = 0.0\n",
    "                fg3_percent_allow = 0.0\n",
    "                ft_percent = 0.0\n",
    "                ft_percent_opp = 0.0\n",
    "                ast_seas = 0.0\n",
    "                asta_seas = 0.0\n",
    "                to_seas = 0.0\n",
    "                tof_seas = 0.0\n",
    "                stl_seas = 0.0\n",
    "                stla_seas = 0.0\n",
    "                block_seas = 0.0\n",
    "                blocka_seas = 0.0\n",
    "                pf_seas = 0.0\n",
    "                pfr_seas = 0.0\n",
    "\n",
    "\n",
    "            #storage tuple\n",
    "            stor = [ids, team_name, seas, len_win, len_loss, ppg, ppga, drb_seas, drba_seas, orb_seas, orba_seas,\n",
    "                   fg_percent, fg_percent_allow, fg3_percent, fg3_percent_allow, ft_percent, ft_percent_opp, \n",
    "                   ast_seas, asta_seas, to_seas, tof_seas, stl_seas, stla_seas, block_seas, blocka_seas, pf_seas, pfr_seas]\n",
    "            master_list.append(stor)\n",
    "            \n",
    "            \n",
    "            \n",
    "            \n",
    "            "
   ]
  },
  {
   "cell_type": "code",
   "execution_count": 11,
   "metadata": {
    "collapsed": true
   },
   "outputs": [],
   "source": [
    "df1 = pd.DataFrame(master_list, columns = header)"
   ]
  },
  {
   "cell_type": "code",
   "execution_count": 12,
   "metadata": {
    "collapsed": true
   },
   "outputs": [],
   "source": [
    "duke = df1[df1['TeamName'] == 'Duke']\n",
    "duke = duke.sort_values(by =['Season'])"
   ]
  },
  {
   "cell_type": "code",
   "execution_count": 13,
   "metadata": {},
   "outputs": [
    {
     "data": {
      "text/plain": [
       "<matplotlib.axes._subplots.AxesSubplot at 0x106ae9b90>"
      ]
     },
     "execution_count": 13,
     "metadata": {},
     "output_type": "execute_result"
    },
    {
     "data": {
      "image/png": "[encoded data removed]",
      "text/plain": [
       "<matplotlib.figure.Figure at 0x10327e1d0>"
      ]
     },
     "metadata": {},
     "output_type": "display_data"
    }
   ],
   "source": [
    "duke.plot(x ='Season', y = ['PPG', 'PPGA'], color = ['skyblue', 'olive'])"
   ]
  },
  {
   "cell_type": "code",
   "execution_count": 14,
   "metadata": {
    "collapsed": true
   },
   "outputs": [],
   "source": [
    "duke = duke.sort_values(by =['Season'])"
   ]
  },
  {
   "cell_type": "markdown",
   "metadata": {},
   "source": [
    "Manipulate data table to perform XG Boost"
   ]
  },
  {
   "cell_type": "markdown",
   "metadata": {},
   "source": [
    "function to get wins"
   ]
  },
  {
   "cell_type": "code",
   "execution_count": 15,
   "metadata": {
    "collapsed": true
   },
   "outputs": [],
   "source": [
    "def get_team1_win(row):\n",
    "    if row['WTeamID'] < row['LTeamID']:\n",
    "        return 1\n",
    "    else:\n",
    "        return 0"
   ]
  },
  {
   "cell_type": "code",
   "execution_count": 16,
   "metadata": {
    "collapsed": true
   },
   "outputs": [],
   "source": [
    "full_result_season['Team1_win'] = full_result_season[['Season', 'WTeamID', 'LTeamID']].apply(get_team1_win, axis=1)"
   ]
  },
  {
   "cell_type": "code",
   "execution_count": 17,
   "metadata": {
    "collapsed": true
   },
   "outputs": [],
   "source": [
    "full_result_season['Team1'] = full_result_season[['WTeamID', 'LTeamID']].min(axis=1)\n",
    "full_result_season['Team2'] = full_result_season[['WTeamID', 'LTeamID']].max(axis=1)"
   ]
  },
  {
   "cell_type": "markdown",
   "metadata": {},
   "source": [
    "Create new data frame for season stats"
   ]
  },
  {
   "cell_type": "code",
   "execution_count": 18,
   "metadata": {
    "collapsed": true
   },
   "outputs": [],
   "source": [
    "season_stats = full_result_season[['Season', 'Team1', 'Team2', 'Team1_win']]\n",
    "#Merge the desired team id and wins for Team 1\n",
    "season_stats = pd.merge(season_stats, df1, left_on=['Season', 'Team1'], right_on=['Season', 'TeamID'], how='left')\n",
    "del season_stats['TeamID']\n",
    "#Merge the desired team id and wins for Team 2\n",
    "season_stats = pd.merge(season_stats, df1, left_on=['Season', 'Team2'], right_on=['Season', 'TeamID'], how='left', suffixes=['_1', '_2'])\n",
    "del season_stats['TeamID']"
   ]
  },
  {
   "cell_type": "code",
   "execution_count": 19,
   "metadata": {},
   "outputs": [
    {
     "data": {
      "text/plain": [
       "Index([u'Season', u'Team1', u'Team2', u'Team1_win', u'TeamName_1',\n",
       "       u'Number Wins_1', u'Number Losses_1', u'PPG_1', u'PPGA_1', u'DRB_1',\n",
       "       u'DRB Allowed_1', u'ORB_1', u'ORB Allowed_1', u'FG Percent_1',\n",
       "       u'FG Percent Allowed_1', u'3 Point Percent_1',\n",
       "       u'3 Point Percent Alllowed_1', u'FT Percent_1', u'FT Opponent_1',\n",
       "       u'Assists_1', u'Assists Allowed_1', u'Turnovers_1',\n",
       "       u'Turnovers Forced_1', u'Steals_1', u'Steals Allowed_1', u'Blocks_1',\n",
       "       u'Blocks Allowed_1', u'Personal Fouls_1', u'Personal Fouls Received_1',\n",
       "       u'TeamName_2', u'Number Wins_2', u'Number Losses_2', u'PPG_2',\n",
       "       u'PPGA_2', u'DRB_2', u'DRB Allowed_2', u'ORB_2', u'ORB Allowed_2',\n",
       "       u'FG Percent_2', u'FG Percent Allowed_2', u'3 Point Percent_2',\n",
       "       u'3 Point Percent Alllowed_2', u'FT Percent_2', u'FT Opponent_2',\n",
       "       u'Assists_2', u'Assists Allowed_2', u'Turnovers_2',\n",
       "       u'Turnovers Forced_2', u'Steals_2', u'Steals Allowed_2', u'Blocks_2',\n",
       "       u'Blocks Allowed_2', u'Personal Fouls_2', u'Personal Fouls Received_2'],\n",
       "      dtype='object')"
      ]
     },
     "execution_count": 19,
     "metadata": {},
     "output_type": "execute_result"
    }
   ],
   "source": [
    "season_stats.columns"
   ]
  },
  {
   "cell_type": "markdown",
   "metadata": {},
   "source": [
    "Start the modeling process"
   ]
  },
  {
   "cell_type": "code",
   "execution_count": 20,
   "metadata": {
    "collapsed": true
   },
   "outputs": [],
   "source": [
    "from sklearn.model_selection import train_test_split\n",
    "from sklearn.metrics import log_loss\n",
    "import xgboost as xgb"
   ]
  },
  {
   "cell_type": "markdown",
   "metadata": {},
   "source": [
    "Define the datasets"
   ]
  },
  {
   "cell_type": "code",
   "execution_count": 21,
   "metadata": {},
   "outputs": [
    {
     "name": "stdout",
     "output_type": "stream",
     "text": [
      "('Features to be used in training: ', ['Number Wins_1', 'PPG_1', 'DRB_1', 'DRB Allowed_1', 'ORB_1', 'ORB Allowed_1', 'FG Percent_1', 'FG Percent Allowed_1', '3 Point Percent_1', '3 Point Percent Alllowed_1', 'FT Percent_1', 'FT Opponent_1', 'Assists_1', 'Assists Allowed_1', 'Turnovers_1', 'Turnovers Forced_1', 'Steals_1', 'Steals Allowed_1', 'Blocks_1', 'Blocks Allowed_1', 'Personal Fouls_1', 'Personal Fouls Received_1', 'Number Wins_2', 'PPG_2', 'DRB_2', 'DRB Allowed_2', 'ORB_2', 'ORB Allowed_2', 'FG Percent_2', 'FG Percent Allowed_2', '3 Point Percent_2', '3 Point Percent Alllowed_2', 'FT Percent_2', 'FT Opponent_2', 'Assists_2', 'Assists Allowed_2', 'Turnovers_2', 'Turnovers Forced_2', 'Steals_2', 'Steals Allowed_2', 'Blocks_2', 'Blocks Allowed_2', 'Personal Fouls_2', 'Personal Fouls Received_2'])\n"
     ]
    }
   ],
   "source": [
    "no_reg_cols = ['Team1_win', 'TeamName_1', 'TeamName_2', 'Season', 'Team1', 'Team2' , 'Number Losses_1', 'Number Losses_2',\\\n",
    "              'PPGA_1', 'PPGA_2']\n",
    "\n",
    "train, val = train_test_split(season_stats, test_size=.2)\n",
    "\n",
    "regressors = [col for col in train.columns if (col not in no_reg_cols)] #and ('Allowed' not in col) and ('Forced' not in col) and ('Received' not in col) and ('Opponent' not in col) and (('Alllowed' not in col))]\n",
    "print('Features to be used in training: ', regressors)\n",
    "\n",
    "X_train = train[regressors]\n",
    "y_train = train['Team1_win']\n",
    "\n",
    "X_val = val[regressors]\n",
    "y_val = val['Team1_win']\n"
   ]
  },
  {
   "cell_type": "markdown",
   "metadata": {},
   "source": [
    "Deal with the missing data"
   ]
  },
  {
   "cell_type": "code",
   "execution_count": 22,
   "metadata": {
    "collapsed": true
   },
   "outputs": [],
   "source": [
    "X_train = X_train.fillna(X_train.mean())\n",
    "#X_train = X_train.fillna(0)\n",
    "X_train = X_train.values\n",
    "\n",
    "X_val = X_val.fillna(X_val.mean())\n",
    "#X_val = X_val.fillna(0)\n",
    "X_val = X_val.values"
   ]
  },
  {
   "cell_type": "markdown",
   "metadata": {},
   "source": [
    "Run the xgboost model"
   ]
  },
  {
   "cell_type": "code",
   "execution_count": 23,
   "metadata": {},
   "outputs": [
    {
     "name": "stdout",
     "output_type": "stream",
     "text": [
      "(65632, 44)\n",
      "(16409, 44)\n"
     ]
    }
   ],
   "source": [
    "d_train = xgb.DMatrix(X_train, label=y_train)\n",
    "d_val = xgb.DMatrix(X_val, label=y_val)\n",
    "\n",
    "print(X_train.shape)\n",
    "print(X_val.shape)"
   ]
  },
  {
   "cell_type": "code",
   "execution_count": 24,
   "metadata": {},
   "outputs": [
    {
     "name": "stderr",
     "output_type": "stream",
     "text": [
      "Will train until Val error hasn't decreased in 10 rounds.\n",
      "[0]\tVal-logloss:0.615920\n",
      "[1]\tVal-logloss:0.575794\n",
      "[2]\tVal-logloss:0.552926\n",
      "[3]\tVal-logloss:0.539798\n",
      "[4]\tVal-logloss:0.531885\n",
      "[5]\tVal-logloss:0.527716\n",
      "[6]\tVal-logloss:0.525453\n",
      "[7]\tVal-logloss:0.524155\n",
      "[8]\tVal-logloss:0.523634\n",
      "[9]\tVal-logloss:0.523347\n",
      "[10]\tVal-logloss:0.523388\n",
      "[11]\tVal-logloss:0.524006\n",
      "[12]\tVal-logloss:0.524676\n",
      "[13]\tVal-logloss:0.525110\n",
      "[14]\tVal-logloss:0.525191\n",
      "[15]\tVal-logloss:0.525684\n",
      "[16]\tVal-logloss:0.526139\n",
      "[17]\tVal-logloss:0.526733\n",
      "[18]\tVal-logloss:0.526998\n",
      "[19]\tVal-logloss:0.527167\n",
      "Stopping. Best iteration:\n",
      "[9]\tVal-logloss:0.523347\n",
      "\n"
     ]
    }
   ],
   "source": [
    "params = {\n",
    "    'max_depth':8,\n",
    "    'min_child_weight': 50,\n",
    "    'eta':.3,\n",
    "    'subsample': 1,\n",
    "    'colsample_bytree': 1,\n",
    "    'objective':'binary:logistic',\n",
    "    'eval_metric':'logloss'\n",
    "}\n",
    "\n",
    "# With more time, a more rigorous grid search for parameters would get better results\n",
    "model = xgb.train(\n",
    "    params,\n",
    "    d_train,\n",
    "    num_boost_round=999,\n",
    "    evals=[(d_val, \"Val\")],\n",
    "    early_stopping_rounds=10\n",
    ")"
   ]
  },
  {
   "cell_type": "code",
   "execution_count": 25,
   "metadata": {},
   "outputs": [
    {
     "name": "stderr",
     "output_type": "stream",
     "text": [
      "/Users/Santiago/anaconda2/lib/python2.7/site-packages/ipykernel_launcher.py:2: SettingWithCopyWarning: \n",
      "A value is trying to be set on a copy of a slice from a DataFrame.\n",
      "Try using .loc[row_indexer,col_indexer] = value instead\n",
      "\n",
      "See the caveats in the documentation: http://pandas.pydata.org/pandas-docs/stable/indexing.html#indexing-view-versus-copy\n",
      "  \n"
     ]
    }
   ],
   "source": [
    "y_pred = model.predict(d_val)\n",
    "val['win_pred_prob'] = y_pred"
   ]
  },
  {
   "cell_type": "markdown",
   "metadata": {},
   "source": [
    "See weights of regressors"
   ]
  },
  {
   "cell_type": "code",
   "execution_count": 26,
   "metadata": {},
   "outputs": [
    {
     "data": {
      "text/plain": [
       "f22    106\n",
       "f0      91\n",
       "f40     69\n",
       "f36     69\n",
       "f18     62\n",
       "f14     53\n",
       "f2      44\n",
       "f6      43\n",
       "f11     42\n",
       "f3      41\n",
       "f12     40\n",
       "f33     38\n",
       "f43     35\n",
       "f41     35\n",
       "f30     35\n",
       "f20     35\n",
       "f32     35\n",
       "f25     34\n",
       "f28     34\n",
       "f34     34\n",
       "f31     33\n",
       "f42     33\n",
       "f4      33\n",
       "f13     32\n",
       "f26     32\n",
       "f5      31\n",
       "f19     31\n",
       "f9      31\n",
       "f29     31\n",
       "f15     30\n",
       "f10     29\n",
       "f16     28\n",
       "f38     27\n",
       "f23     27\n",
       "f17     27\n",
       "f24     26\n",
       "f1      26\n",
       "f35     25\n",
       "f8      24\n",
       "f39     24\n",
       "f37     23\n",
       "f27     22\n",
       "f21     20\n",
       "f7      15\n",
       "dtype: int64"
      ]
     },
     "execution_count": 26,
     "metadata": {},
     "output_type": "execute_result"
    }
   ],
   "source": [
    "model.feature_names = regressors\n",
    "pd.Series(model.get_fscore()).sort_values(ascending=False)"
   ]
  },
  {
   "cell_type": "code",
   "execution_count": 27,
   "metadata": {},
   "outputs": [
    {
     "data": {
      "text/plain": [
       "'Blocks_1'"
      ]
     },
     "execution_count": 27,
     "metadata": {},
     "output_type": "execute_result"
    }
   ],
   "source": [
    "regressors[18]"
   ]
  },
  {
   "cell_type": "code",
   "execution_count": 28,
   "metadata": {
    "collapsed": true
   },
   "outputs": [],
   "source": [
    "def get_season_team_12(row):\n",
    "    return row['ID'].split('_')"
   ]
  },
  {
   "cell_type": "code",
   "execution_count": 29,
   "metadata": {
    "collapsed": true
   },
   "outputs": [],
   "source": [
    "result_df = submit_sample"
   ]
  },
  {
   "cell_type": "code",
   "execution_count": 30,
   "metadata": {
    "collapsed": true
   },
   "outputs": [],
   "source": [
    "result_df['Season'] = result_df.apply(lambda x : int(get_season_team_12(x)[0]), axis=1)\n",
    "result_df['Team1'] = result_df.apply(lambda x : int(get_season_team_12(x)[1]), axis=1)\n",
    "result_df['Team2'] = result_df.apply(lambda x : int(get_season_team_12(x)[2]), axis=1)\n",
    "del result_df['ID']\n",
    "del result_df['Pred']"
   ]
  },
  {
   "cell_type": "code",
   "execution_count": 31,
   "metadata": {
    "collapsed": true
   },
   "outputs": [],
   "source": [
    "result_df = pd.merge(result_df, df1, left_on=['Season', 'Team1'], right_on=['Season', 'TeamID'])\n",
    "del result_df['TeamID']"
   ]
  },
  {
   "cell_type": "code",
   "execution_count": 32,
   "metadata": {
    "collapsed": true
   },
   "outputs": [],
   "source": [
    "result_df = pd.merge(result_df, df1, left_on=['Season', 'Team2'], right_on=['Season', 'TeamID'], how='left', suffixes=['_1', '_2'])\n",
    "del result_df['TeamID']"
   ]
  },
  {
   "cell_type": "code",
   "execution_count": 33,
   "metadata": {
    "collapsed": true
   },
   "outputs": [],
   "source": [
    "X_result = result_df[regressors].values\n",
    "d_result = xgb.DMatrix(X_result)"
   ]
  },
  {
   "cell_type": "code",
   "execution_count": 34,
   "metadata": {
    "collapsed": true
   },
   "outputs": [],
   "source": [
    "result_pred = model.predict(d_result)\n",
    "result_df['pred'] = result_pred"
   ]
  },
  {
   "cell_type": "code",
   "execution_count": 35,
   "metadata": {
    "collapsed": true
   },
   "outputs": [],
   "source": [
    "result_pred_df = result_df"
   ]
  },
  {
   "cell_type": "code",
   "execution_count": 36,
   "metadata": {
    "collapsed": true
   },
   "outputs": [],
   "source": [
    "submit_sample['Pred'] = result_pred"
   ]
  },
  {
   "cell_type": "code",
   "execution_count": 37,
   "metadata": {
    "collapsed": true
   },
   "outputs": [],
   "source": [
    "submit_sample2 = pd.read_csv('./data/SampleTourney2018/SampleSubmissionStage2_SampleTourney2018.csv')"
   ]
  },
  {
   "cell_type": "code",
   "execution_count": 38,
   "metadata": {
    "collapsed": true
   },
   "outputs": [],
   "source": [
    "submit_sample2['Pred'] = result_pred"
   ]
  },
  {
   "cell_type": "code",
   "execution_count": 39,
   "metadata": {
    "collapsed": true
   },
   "outputs": [],
   "source": [
    "submit_sample2.to_csv('Predictions_Stage2.csv', index=False)"
   ]
  },
  {
   "cell_type": "code",
   "execution_count": null,
   "metadata": {
    "collapsed": true
   },
   "outputs": [],
   "source": []
  }
 ],
 "metadata": {
  "kernelspec": {
   "display_name": "Python 2",
   "language": "python",
   "name": "python2"
  },
  "language_info": {
   "codemirror_mode": {
    "name": "ipython",
    "version": 2
   },
   "file_extension": ".py",
   "mimetype": "text/x-python",
   "name": "python",
   "nbconvert_exporter": "python",
   "pygments_lexer": "ipython2",
   "version": "2.7.14"
  }
 },
 "nbformat": 4,
 "nbformat_minor": 2
}
